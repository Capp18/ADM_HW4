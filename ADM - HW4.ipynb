{
 "cells": [
  {
   "cell_type": "markdown",
   "metadata": {},
   "source": [
    "# 1. Hashing task!"
   ]
  },
  {
   "cell_type": "code",
   "execution_count": 1,
   "metadata": {},
   "outputs": [],
   "source": [
    "import numpy as np\n",
    "import random\n",
    "import time"
   ]
  },
  {
   "cell_type": "markdown",
   "metadata": {},
   "source": [
    "### First of all we need to find (n) the number of all the elements which are going to be inserted in the bloom filter."
   ]
  },
  {
   "cell_type": "code",
   "execution_count": 2,
   "metadata": {},
   "outputs": [],
   "source": [
    "pool = open(\"passwords1.txt\")\n",
    "n = 0\n",
    "while(pool.readline() != \"\"):\n",
    "    n += 1\n",
    "pool.close()"
   ]
  },
  {
   "cell_type": "code",
   "execution_count": 3,
   "metadata": {},
   "outputs": [
    {
     "name": "stdout",
     "output_type": "stream",
     "text": [
      "100000000\n"
     ]
    }
   ],
   "source": [
    "print(n)"
   ]
  },
  {
   "cell_type": "markdown",
   "metadata": {},
   "source": [
    "### From the bloom filter's wikipedia page we can see that the optimal number of hash functions can be attained from these formulas:\n",
    "### $k = \\frac{m}{n} ln(2)$\n",
    "### $m = - \\frac{n (lnp)}{(ln2)^2}$\n",
    "##### k = The number of hash functions.<br>n = The number of inserted elements.<br>m = Size of the bloom filter.<br>p = False positive rate."
   ]
  },
  {
   "cell_type": "code",
   "execution_count": 4,
   "metadata": {},
   "outputs": [
    {
     "name": "stdout",
     "output_type": "stream",
     "text": [
      "623522422.9572682\n"
     ]
    }
   ],
   "source": [
    "# here we take p = 0.01 and find corresponding m:\n",
    "p = 0.05\n",
    "m = -1*n*np.log(p)/(np.log(2))**2\n",
    "print(m)"
   ]
  },
  {
   "cell_type": "markdown",
   "metadata": {},
   "source": [
    "#### We want the size of our bloom filter to be a prime number so we can use it in our hash function, so we will find the closest prime number to this:"
   ]
  },
  {
   "cell_type": "code",
   "execution_count": 5,
   "metadata": {},
   "outputs": [
    {
     "name": "stdout",
     "output_type": "stream",
     "text": [
      "623522423\n"
     ]
    }
   ],
   "source": [
    "def is_prime(a):\n",
    "    ub = np.floor(int(np.sqrt(a)))\n",
    "    for i in range(2 ,int(ub)):\n",
    "        if a % i == 0:\n",
    "            return False\n",
    "    return True\n",
    "\n",
    "def closest_prime(a):\n",
    "    i = 0\n",
    "    a = np.floor(a)\n",
    "    while(True):\n",
    "        if(is_prime(a +i)):\n",
    "            return int(a + i)\n",
    "        if( m -i > 0 and is_prime(a -i)):\n",
    "            return int(a - i)\n",
    "        i += 1\n",
    "\n",
    "m = closest_prime(m)\n",
    "print(m)"
   ]
  },
  {
   "cell_type": "markdown",
   "metadata": {},
   "source": [
    "#### Now that we have the size of our bloom filter, we can find the optimal number of hash functions:"
   ]
  },
  {
   "cell_type": "code",
   "execution_count": 6,
   "metadata": {},
   "outputs": [
    {
     "name": "stdout",
     "output_type": "stream",
     "text": [
      "4\n"
     ]
    }
   ],
   "source": [
    "k = m * np.log(2) / n\n",
    "k = int(round(k))\n",
    "print(k)"
   ]
  },
  {
   "cell_type": "markdown",
   "metadata": {},
   "source": [
    "### It's time to create our hash functions\n",
    "#### We need 20 random coefficients for each hash function:"
   ]
  },
  {
   "cell_type": "code",
   "execution_count": 7,
   "metadata": {},
   "outputs": [
    {
     "name": "stdout",
     "output_type": "stream",
     "text": [
      "[[137764682, 314396409, 353945432, 75742771, 309245389, 18300369, 272098438, 40734884, 56208480, 33011002, 317609153, 582008730, 329017868, 298235097, 592170620, 283341426, 337819242, 55136982, 298203738, 234778959], [492398237, 529394535, 270980423, 385778073, 172099484, 512972309, 87370041, 63574328, 233832667, 206353444, 432606583, 129495094, 440497579, 181275207, 477360785, 522286155, 611343192, 122219416, 57299481, 237780027], [571923885, 302176175, 197234184, 342650466, 523602128, 359926323, 229552571, 37271860, 61547816, 337345667, 268219831, 233733500, 365994133, 557121759, 499169399, 479601089, 140454426, 87488479, 295977027, 96147671], [553424247, 37761661, 485554170, 603090137, 69506933, 306857497, 350832038, 540896445, 444856890, 442407900, 425931361, 162983597, 236613639, 420498737, 87324404, 14297922, 402698035, 119776982, 618053139, 92108484]]\n"
     ]
    }
   ],
   "source": [
    "coeffs = []\n",
    "for i in range(k):\n",
    "    a = []\n",
    "    for j in range(20):\n",
    "        a.append(random.randrange(m))\n",
    "    coeffs.append(a)\n",
    "print(coeffs)\n",
    "        "
   ]
  },
  {
   "cell_type": "code",
   "execution_count": 8,
   "metadata": {},
   "outputs": [],
   "source": [
    "def my_hash(m, coeffs, string):\n",
    "    h = 0\n",
    "    for i in range(20):\n",
    "        h += ord(string[i]) * coeffs[i]\n",
    "    return h%m"
   ]
  },
  {
   "cell_type": "markdown",
   "metadata": {},
   "source": [
    "### Now that our hash functions are ready, we can fill out the bloom filter:"
   ]
  },
  {
   "cell_type": "code",
   "execution_count": 9,
   "metadata": {},
   "outputs": [],
   "source": [
    "bloom_filter = []\n",
    "for i in range(m):\n",
    "    bloom_filter.append(False)"
   ]
  },
  {
   "cell_type": "code",
   "execution_count": 10,
   "metadata": {},
   "outputs": [],
   "source": [
    "pool = open(\"passwords1.txt\")\n",
    "start = time.time()\n",
    "for i in range(n):\n",
    "    s = pool.readline()\n",
    "    for j in range(k):\n",
    "        key = my_hash(m, coeffs[j], s)\n",
    "        bloom_filter[key] = True\n",
    "pool.close()"
   ]
  },
  {
   "cell_type": "markdown",
   "metadata": {},
   "source": [
    "### Now that the bloom filter is available we can get the results for our test set."
   ]
  },
  {
   "cell_type": "code",
   "execution_count": 11,
   "metadata": {},
   "outputs": [
    {
     "name": "stdout",
     "output_type": "stream",
     "text": [
      "15257184  password(s) are present in the filter.\n"
     ]
    }
   ],
   "source": [
    "duplicate = 0 #counter for duplicate passwords\n",
    "test = open(\"passwords2.txt\")\n",
    "s = test.readline()\n",
    "while(s != \"\"):\n",
    "    flag = True\n",
    "    for i in range(k):\n",
    "        key = my_hash(m, coeffs[i], s)\n",
    "        if( bloom_filter[key] == False ):\n",
    "            flag = False\n",
    "            break\n",
    "    if(flag):\n",
    "        duplicate += 1\n",
    "    s = test.readline()\n",
    "end = time.time()\n",
    "test.close()\n",
    "print(duplicate, \" password(s) are present in the filter.\")"
   ]
  },
  {
   "cell_type": "code",
   "execution_count": 13,
   "metadata": {},
   "outputs": [
    {
     "name": "stdout",
     "output_type": "stream",
     "text": [
      "Number of hash function used:  4\n",
      "Number of duplicates detected:  15257184\n",
      "Probability of false positives: around  0.05\n",
      "Execution time:  2782.8581113815308\n"
     ]
    }
   ],
   "source": [
    "print('Number of hash function used: ', k)\n",
    "print('Number of duplicates detected: ', duplicate)\n",
    "print('Probability of false positives: around ', p)\n",
    "print('Execution time: ', end-start)"
   ]
  }
 ],
 "metadata": {
  "kernelspec": {
   "display_name": "Python 3",
   "language": "python",
   "name": "python3"
  },
  "language_info": {
   "codemirror_mode": {
    "name": "ipython",
    "version": 3
   },
   "file_extension": ".py",
   "mimetype": "text/x-python",
   "name": "python",
   "nbconvert_exporter": "python",
   "pygments_lexer": "ipython3",
   "version": "3.7.3"
  }
 },
 "nbformat": 4,
 "nbformat_minor": 2
}
